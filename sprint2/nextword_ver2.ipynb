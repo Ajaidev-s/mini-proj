{
  "cells": [
    {
      "cell_type": "code",
      "source": [
        "from google.colab import drive\n",
        "drive.mount('/content/drive')"
      ],
      "metadata": {
        "colab": {
          "base_uri": "https://localhost:8080/"
        },
        "id": "fnsMrGqGdW9n",
        "outputId": "f2f63b1b-f734-4d18-c3f6-78ee7abdb01c"
      },
      "execution_count": null,
      "outputs": [
        {
          "output_type": "stream",
          "name": "stdout",
          "text": [
            "Drive already mounted at /content/drive; to attempt to forcibly remount, call drive.mount(\"/content/drive\", force_remount=True).\n"
          ]
        }
      ]
    },
    {
      "cell_type": "code",
      "execution_count": null,
      "metadata": {
        "id": "A1jwO4ZRPNlQ"
      },
      "outputs": [],
      "source": [
        "import pandas as pd\n",
        "\n",
        "# Load the dataset\n",
        "df = pd.read_csv('/content/drive/MyDrive/project/dataset/cleaned_sentences.xls')\n",
        "sentences = df['sentences'].tolist()  # Extract the sentences as a list\n"
      ]
    },
    {
      "cell_type": "code",
      "execution_count": null,
      "metadata": {
        "colab": {
          "base_uri": "https://localhost:8080/"
        },
        "id": "wmEu6h8tPbpz",
        "outputId": "72e05aa8-e383-4a24-f88c-99d6bd610a41"
      },
      "outputs": [
        {
          "output_type": "stream",
          "name": "stdout",
          "text": [
            "300000\n"
          ]
        }
      ],
      "source": [
        "sentences=sentences[:300000]\n",
        "print(len(sentences))"
      ]
    },
    {
      "cell_type": "code",
      "execution_count": null,
      "metadata": {
        "colab": {
          "base_uri": "https://localhost:8080/"
        },
        "id": "MHiw8KVVPdsS",
        "outputId": "89712e8d-6a13-412e-b780-0454365bb2bf"
      },
      "outputs": [
        {
          "output_type": "stream",
          "name": "stdout",
          "text": [
            "Epoch 1/10\n",
            "\u001b[1m11604/11604\u001b[0m \u001b[32m━━━━━━━━━━━━━━━━━━━━\u001b[0m\u001b[37m\u001b[0m \u001b[1m1558s\u001b[0m 134ms/step - accuracy: 0.1222 - loss: 6.0830\n",
            "Epoch 2/10\n",
            "\u001b[1m11604/11604\u001b[0m \u001b[32m━━━━━━━━━━━━━━━━━━━━\u001b[0m\u001b[37m\u001b[0m \u001b[1m1553s\u001b[0m 134ms/step - accuracy: 0.1847 - loss: 5.0882\n",
            "Epoch 3/10\n",
            "\u001b[1m11604/11604\u001b[0m \u001b[32m━━━━━━━━━━━━━━━━━━━━\u001b[0m\u001b[37m\u001b[0m \u001b[1m1551s\u001b[0m 134ms/step - accuracy: 0.1959 - loss: 4.8772\n",
            "Epoch 4/10\n",
            "\u001b[1m11604/11604\u001b[0m \u001b[32m━━━━━━━━━━━━━━━━━━━━\u001b[0m\u001b[37m\u001b[0m \u001b[1m1551s\u001b[0m 134ms/step - accuracy: 0.2065 - loss: 4.7033\n",
            "Epoch 5/10\n",
            "\u001b[1m11604/11604\u001b[0m \u001b[32m━━━━━━━━━━━━━━━━━━━━\u001b[0m\u001b[37m\u001b[0m \u001b[1m1551s\u001b[0m 134ms/step - accuracy: 0.2148 - loss: 4.5606\n",
            "Epoch 6/10\n",
            "\u001b[1m11604/11604\u001b[0m \u001b[32m━━━━━━━━━━━━━━━━━━━━\u001b[0m\u001b[37m\u001b[0m \u001b[1m1550s\u001b[0m 134ms/step - accuracy: 0.2162 - loss: 4.5531\n",
            "Epoch 7/10\n",
            "\u001b[1m11604/11604\u001b[0m \u001b[32m━━━━━━━━━━━━━━━━━━━━\u001b[0m\u001b[37m\u001b[0m \u001b[1m1550s\u001b[0m 134ms/step - accuracy: 0.2260 - loss: 4.4336\n",
            "Epoch 8/10\n",
            "\u001b[1m11604/11604\u001b[0m \u001b[32m━━━━━━━━━━━━━━━━━━━━\u001b[0m\u001b[37m\u001b[0m \u001b[1m1550s\u001b[0m 134ms/step - accuracy: 0.2276 - loss: 4.3991\n",
            "Epoch 9/10\n",
            "\u001b[1m 5832/11604\u001b[0m \u001b[32m━━━━━━━━━━\u001b[0m\u001b[37m━━━━━━━━━━\u001b[0m \u001b[1m12:51\u001b[0m 134ms/step - accuracy: 0.2311 - loss: 4.4151"
          ]
        }
      ],
      "source": [
        "import numpy as np\n",
        "import tensorflow as tf\n",
        "from tensorflow.keras.preprocessing.text import Tokenizer\n",
        "from tensorflow.keras.preprocessing.sequence import pad_sequences\n",
        "from tensorflow.keras.models import Sequential\n",
        "from tensorflow.keras.layers import Embedding, LSTM, Dense\n",
        "\n",
        "\n",
        "# Step 2: Tokenization - Create a tokenizer and fit it on the sentences\n",
        "tokenizer = Tokenizer()\n",
        "tokenizer.fit_on_texts(sentences)\n",
        "\n",
        "# Calculate the total number of words in the vocabulary\n",
        "total_words = len(tokenizer.word_index) + 1  # Adding 1 because indexing starts from 1\n",
        "\n",
        "# Step 3: Determine the maximum sequence length in the dataset\n",
        "# This is important for padding all sequences to the same length\n",
        "max_sequence_len = max([len(tokenizer.texts_to_sequences([s])[0]) for s in sentences])\n",
        "\n",
        "# Step 4: Create a data generator that yields batches of sequences and their corresponding labels\n",
        "def data_generator(sentences, tokenizer, max_sequence_len, batch_size):\n",
        "    X_batch = []  # Input sequences for the batch\n",
        "    y_batch = []  # Labels for the batch\n",
        "\n",
        "    while True:  # Infinite loop to continuously generate batches\n",
        "        for line in sentences:\n",
        "            # Convert each sentence into a list of word indices\n",
        "            token_list = tokenizer.texts_to_sequences([line])[0]\n",
        "            # Generate input-output pairs for each possible n-gram in the sentence\n",
        "            for i in range(1, len(token_list)):\n",
        "                n_gram_sequence = token_list[:i+1]\n",
        "                # Pad the sequence so that they all have the same length\n",
        "                sequence = pad_sequences([n_gram_sequence], maxlen=max_sequence_len, padding='pre')[0]\n",
        "                X_batch.append(sequence[:-1])  # Input is the sequence except the last word\n",
        "                y_batch.append(sequence[-1])  # Label is the last word in the sequence\n",
        "\n",
        "                # If the batch is full, yield it and reset the batch lists\n",
        "                if len(X_batch) == batch_size:\n",
        "                    X_batch = np.array(X_batch)\n",
        "                    y_batch = np.array(y_batch)\n",
        "                    # Convert labels to one-hot encoded vectors\n",
        "                    y_batch = tf.keras.utils.to_categorical(y_batch, num_classes=total_words)\n",
        "                    yield X_batch, y_batch\n",
        "                    X_batch = []  # Reset input batch\n",
        "                    y_batch = []  # Reset label batch\n",
        "\n",
        "        # If there are leftover samples that didn't make a full batch, yield them as a smaller batch\n",
        "        if len(X_batch) > 0:\n",
        "            X_batch = np.array(X_batch)\n",
        "            y_batch = np.array(y_batch)\n",
        "            y_batch = tf.keras.utils.to_categorical(y_batch, num_classes=total_words)\n",
        "            yield X_batch, y_batch\n",
        "            X_batch = []\n",
        "            y_batch = []\n",
        "\n",
        "# Step 5: Set the batch size\n",
        "batch_size = 328\n",
        "\n",
        "# Step 6: Calculate steps per epoch\n",
        "# This is the total number of sequences divided by the batch size\n",
        "steps_per_epoch = sum(len(tokenizer.texts_to_sequences([s])[0]) for s in sentences) // batch_size\n",
        "\n",
        "# Step 7: Create a TensorFlow dataset from the generator function\n",
        "train_dataset = tf.data.Dataset.from_generator(\n",
        "    lambda: data_generator(sentences, tokenizer, max_sequence_len, batch_size),\n",
        "    output_signature=(\n",
        "        tf.TensorSpec(shape=(None, max_sequence_len-1), dtype=tf.int32),  # Input shape\n",
        "        tf.TensorSpec(shape=(None, total_words), dtype=tf.float32)  # Label shape\n",
        "    )\n",
        ")\n",
        "\n",
        "# Optimize data loading by prefetching\n",
        "train_dataset = train_dataset.prefetch(buffer_size=tf.data.AUTOTUNE)\n",
        "\n",
        "# Step 8: Define the LSTM model\n",
        "model = Sequential([\n",
        "    # Embedding layer to convert word indices into dense vectors of fixed size (100)\n",
        "    Embedding(total_words, 100, input_length=max_sequence_len-1),\n",
        "    # LSTM layer with 150 units\n",
        "    LSTM(150),\n",
        "    # Dense layer with a softmax activation to predict the probability distribution over the vocabulary\n",
        "    Dense(total_words, activation='softmax')\n",
        "])\n",
        "\n",
        "# Step 9: Compile the model\n",
        "# Use categorical crossentropy as the loss function and Adam optimizer\n",
        "model.compile(loss='categorical_crossentropy', optimizer='adam', metrics=['accuracy'])\n",
        "\n",
        "# Step 10: Train the model using the data generator\n",
        "model.fit(train_dataset, epochs=10, steps_per_epoch=steps_per_epoch, verbose=1)\n",
        "\n",
        "# Step 11: Define a function to predict the next word\n",
        "def predict_next_word(model, tokenizer, text, max_sequence_len):\n",
        "    token_list = tokenizer.texts_to_sequences([text])[0]\n",
        "    token_list = pad_sequences([token_list], maxlen=max_sequence_len-1, padding='pre')\n",
        "    predicted = model.predict(token_list, verbose=0)\n",
        "    predicted_word = tokenizer.index_word[np.argmax(predicted)]\n",
        "    return predicted_word\n",
        "\n",
        "# Example of prediction\n",
        "seed_text = \"i am a good \"\n",
        "next_word = predict_next_word(model, tokenizer, seed_text, max_sequence_len)\n",
        "print(f\"Next word prediction: {next_word}\")"
      ]
    },
    {
      "cell_type": "code",
      "source": [
        "save_path = 'lstm_next_word_model.h5'\n",
        "model.save(save_path)\n"
      ],
      "metadata": {
        "colab": {
          "base_uri": "https://localhost:8080/",
          "height": 158
        },
        "id": "AFmaWWOrRa-G",
        "outputId": "5a24d930-1bb5-4f30-a7e6-abbd4e1aea4b"
      },
      "execution_count": null,
      "outputs": [
        {
          "output_type": "error",
          "ename": "NameError",
          "evalue": "name 'model' is not defined",
          "traceback": [
            "\u001b[0;31m---------------------------------------------------------------------------\u001b[0m",
            "\u001b[0;31mNameError\u001b[0m                                 Traceback (most recent call last)",
            "\u001b[0;32m<ipython-input-1-4fbaefdfa318>\u001b[0m in \u001b[0;36m<cell line: 2>\u001b[0;34m()\u001b[0m\n\u001b[1;32m      1\u001b[0m \u001b[0msave_path\u001b[0m \u001b[0;34m=\u001b[0m \u001b[0;34m'lstm_next_word_model.h5'\u001b[0m\u001b[0;34m\u001b[0m\u001b[0;34m\u001b[0m\u001b[0m\n\u001b[0;32m----> 2\u001b[0;31m \u001b[0mmodel\u001b[0m\u001b[0;34m.\u001b[0m\u001b[0msave\u001b[0m\u001b[0;34m(\u001b[0m\u001b[0msave_path\u001b[0m\u001b[0;34m)\u001b[0m\u001b[0;34m\u001b[0m\u001b[0;34m\u001b[0m\u001b[0m\n\u001b[0m",
            "\u001b[0;31mNameError\u001b[0m: name 'model' is not defined"
          ]
        }
      ]
    }
  ],
  "metadata": {
    "colab": {
      "provenance": [],
      "gpuType": "T4",
      "toc_visible": true
    },
    "kernelspec": {
      "display_name": "Python 3",
      "name": "python3"
    },
    "language_info": {
      "name": "python"
    },
    "accelerator": "GPU"
  },
  "nbformat": 4,
  "nbformat_minor": 0
}